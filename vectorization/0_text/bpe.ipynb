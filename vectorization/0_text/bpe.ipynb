{
 "cells": [
  {
   "cell_type": "code",
   "execution_count": 59,
   "metadata": {},
   "outputs": [],
   "source": [
    "import collections\n",
    "import re\n",
    "# SPACE_TOKEN = \"_\"       # 用下划线表示空格符\n",
    "END_TOKEN   = r'</w>'   # 用</w>表示单词结束"
   ]
  },
  {
   "cell_type": "code",
   "execution_count": 60,
   "metadata": {},
   "outputs": [],
   "source": [
    "# 定义个模拟语料库\n",
    "corpus = [\"I am obama.\", \"I am banana!\", \"I like banana?\"]\n"
   ]
  },
  {
   "cell_type": "code",
   "execution_count": 61,
   "metadata": {},
   "outputs": [
    {
     "name": "stdout",
     "output_type": "stream",
     "text": [
      "word_freq:defaultdict(<class 'int'>, {'I </w>': 3, 'a m </w>': 2, 'o b a m a . </w>': 1, 'b a n a n a ! </w>': 1, 'l i k e </w>': 1, 'b a n a n a ? </w>': 1})\n"
     ]
    }
   ],
   "source": [
    "# 获取预料库中的单词统计信息\n",
    "word_freq = collections.defaultdict(int)\n",
    "for sentence in corpus:\n",
    "    words = sentence.strip().split()\n",
    "    for word in words:\n",
    "        word_freq[\" \".join(list(word))+ \" \" + END_TOKEN] += 1\n",
    "print(f\"word_freq:{word_freq}\")"
   ]
  },
  {
   "cell_type": "code",
   "execution_count": 62,
   "metadata": {},
   "outputs": [
    {
     "name": "stdout",
     "output_type": "stream",
     "text": [
      "vocab:defaultdict(<class 'int'>, {'I': 1, '</w>': 6, 'a': 9, 'm': 2, 'o': 1, 'b': 3, '.': 1, 'n': 4, '!': 1, 'l': 1, 'i': 1, 'k': 1, 'e': 1, '?': 1})\n",
      "pair_freq:defaultdict(<class 'int'>, {('I', '</w>'): 3, ('a', 'm'): 3, ('m', '</w>'): 2, ('o', 'b'): 1, ('b', 'a'): 3, ('m', 'a'): 1, ('a', '.'): 1, ('.', '</w>'): 1, ('a', 'n'): 4, ('n', 'a'): 4, ('a', '!'): 1, ('!', '</w>'): 1, ('l', 'i'): 1, ('i', 'k'): 1, ('k', 'e'): 1, ('e', '</w>'): 1, ('a', '?'): 1, ('?', '</w>'): 1})\n"
     ]
    }
   ],
   "source": [
    "\n",
    "# 获取初始词表字符对统计信息\n",
    "vocab    = collections.defaultdict(int)\n",
    "pair_freq       = collections.defaultdict(int)\n",
    "for word, freq in word_freq.items():\n",
    "    chars   = word.split()\n",
    "    length  = len(chars)\n",
    "    # 字符统计\n",
    "    for char in chars:\n",
    "        vocab[char] += freq\n",
    "    # 字符对统计\n",
    "    for i in range(len(chars)-1):\n",
    "        pair_freq[(chars[i], chars[i+1])] += freq\n",
    "print(f\"vocab:{vocab}\")\n",
    "print(f\"pair_freq:{pair_freq}\")"
   ]
  },
  {
   "cell_type": "code",
   "execution_count": 63,
   "metadata": {},
   "outputs": [
    {
     "name": "stdout",
     "output_type": "stream",
     "text": [
      "pair_with_max_freq:('a', 'n')\n",
      "merged_pair:a\\ n\n",
      "defaultdict(<class 'int'>, {'I </w>': 3, 'a m </w>': 2, 'o b a m a . </w>': 1, 'b an an a ! </w>': 1, 'l i k e </w>': 1, 'b an an a ? </w>': 1})\n"
     ]
    }
   ],
   "source": [
    "\n",
    "# 获取最大频数字符对\n",
    "pair_with_max_freq = max(pair_freq, key=pair_freq.get)\n",
    "print(f\"pair_with_max_freq:{pair_with_max_freq}\")\n",
    "\n",
    "# 融合最大频数字符对\n",
    "merged_pair = re.escape(' '.join(pair_with_max_freq))\n",
    "print(f\"merged_pair:{merged_pair}\")\n",
    "\n",
    "# 定义正则表达式\n",
    "match_re = re.compile(r'(?<!\\S)' + merged_pair + r'(?!\\S)') # 目标pair左右两边得是空字符，如空格等\n",
    "\n",
    "# 将word_freq中满足pair_with_max_freq字符对合并\n",
    "new_word_freq = collections.defaultdict(int)\n",
    "for key in word_freq:\n",
    "    new_key = match_re.sub(''.join(pair_with_max_freq), key) # 满足则替换\n",
    "    new_word_freq[new_key] = word_freq[key]\n",
    "print(new_word_freq)\n"
   ]
  },
  {
   "cell_type": "code",
   "execution_count": 64,
   "metadata": {},
   "outputs": [
    {
     "name": "stdout",
     "output_type": "stream",
     "text": [
      "defaultdict(<class 'int'>, {'I': 1, '</w>': 6, 'a': 5, 'm': 2, 'o': 1, 'b': 3, '.': 1, 'n': 0, '!': 1, 'l': 1, 'i': 1, 'k': 1, 'e': 1, '?': 1, 'an': 4})\n"
     ]
    }
   ],
   "source": [
    "# 更新词表\n",
    "vocab[''.join(pair_with_max_freq)] = pair_freq[pair_with_max_freq]\n",
    "vocab[pair_with_max_freq[0]] -= pair_freq[pair_with_max_freq]\n",
    "vocab[pair_with_max_freq[1]] -= pair_freq[pair_with_max_freq]\n",
    "print(vocab)"
   ]
  }
 ],
 "metadata": {
  "kernelspec": {
   "display_name": "base",
   "language": "python",
   "name": "python3"
  },
  "language_info": {
   "codemirror_mode": {
    "name": "ipython",
    "version": 3
   },
   "file_extension": ".py",
   "mimetype": "text/x-python",
   "name": "python",
   "nbconvert_exporter": "python",
   "pygments_lexer": "ipython3",
   "version": "3.12.2"
  }
 },
 "nbformat": 4,
 "nbformat_minor": 2
}
